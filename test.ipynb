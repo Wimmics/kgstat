{
 "cells": [
  {
   "cell_type": "code",
   "execution_count": 7,
   "id": "6cfe02ee",
   "metadata": {},
   "outputs": [
    {
     "name": "stdout",
     "output_type": "stream",
     "text": [
      "sys.version_info(major=3, minor=8, micro=8, releaselevel='final', serial=0)\n",
      "use conda\n"
     ]
    }
   ],
   "source": [
    "import sys\n",
    "print(sys.version_info)\n",
    "\n",
    "colab = 'google.colab' in sys.modules\n",
    "if colab:\n",
    "    'Google Colab Runtime'\n",
    "\n",
    "import os\n",
    "conda = os.environ.get('CONDA_DEFAULT_ENV')\n"
   ]
  },
  {
   "cell_type": "code",
   "execution_count": null,
   "id": "2c4cffc9",
   "metadata": {},
   "outputs": [],
   "source": [
    "sys.modules"
   ]
  },
  {
   "cell_type": "code",
   "execution_count": null,
   "id": "e9d08efa-edb1-4777-a68d-22adce71a1e5",
   "metadata": {},
   "outputs": [],
   "source": []
  },
  {
   "cell_type": "markdown",
   "id": "acafa3b2-284c-44b1-addb-3bf93e50b9e3",
   "metadata": {},
   "source": [
    "\n",
    "|       GDD (°C)          | Region            | Characteristics |\n",
    "|:-----------------------:|:------------------|:----------------|\n",
    "|       less than 850     | Too cool          |\n",
    "|       850 to 1389       | Region I          | Wines are made from cool-climate grape varieties, such as Chardonnay, Sauvignon Blanc, Pinot Noir, <br> and Riesling. These wines tend to be light-bodied and crisp, with fresh acidity and delicate flavors.<br> Typical French regions: Champagne, Alsace, Burgundy, Loire Valley, Savoie. |\n",
    "|       1389 to 1667      | Region II         | Wines made from grape varieties that thrive in moderate climates, such as Syrah, Merlot, and <br> Cabernet Sauvignon. These wines tend to have medium-bodied, fruity flavors and medium <br> to high tannins. Typical French regions: Bordeaux. |\n",
    "|       1667 to 1944      | Region III        | Wines made from warm-climate grape varieties, such as Grenache, Carignan, and Mourvèdre.<br> These wines tend to be full-bodied, with ripe, bold flavors and high alcohol levels.<br> Typical French regions: Nothern Rhône. |\n",
    "|       1944 to 2222      | Region IV         | Wines are favorable for high production, but acceptable table wine quality at best.<br> Typical French regions: Languedoc, Roussillon, Southern Rhône, and Corsica.|\n",
    "|       2222 to 2700      | Region V          | Typically only suitable for extremely high production, fair quality table wine or table grape varieties<br> destined for early season consumption are grown. May not be applicable to France.|\n",
    "|     greater than 2700   | Too hot           |"
   ]
  },
  {
   "cell_type": "code",
   "execution_count": null,
   "id": "51eb7411-6231-4118-8be2-dfb905d7e056",
   "metadata": {},
   "outputs": [],
   "source": []
  }
 ],
 "metadata": {
  "kernelspec": {
   "display_name": "Python 3 (ipykernel)",
   "language": "python",
   "name": "python3"
  },
  "language_info": {
   "codemirror_mode": {
    "name": "ipython",
    "version": 3
   },
   "file_extension": ".py",
   "mimetype": "text/x-python",
   "name": "python",
   "nbconvert_exporter": "python",
   "pygments_lexer": "ipython3",
   "version": "3.10.13"
  }
 },
 "nbformat": 4,
 "nbformat_minor": 5
}
